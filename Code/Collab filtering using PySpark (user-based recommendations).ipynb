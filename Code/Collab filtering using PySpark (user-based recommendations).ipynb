{
 "cells": [
  {
   "cell_type": "markdown",
   "metadata": {},
   "source": [
    "### starter code found at https://www.kaggle.com/vchulski/tutorial-collaborative-filtering-with-pyspark"
   ]
  },
  {
   "cell_type": "code",
   "execution_count": 1,
   "metadata": {},
   "outputs": [
    {
     "name": "stdout",
     "output_type": "stream",
     "text": [
      "env: JOBLIB_TEMP_FOLDER=/tmp\n"
     ]
    }
   ],
   "source": [
    "# start Jupyter Notebook with this command - jupyter notebook --NotebookApp.iopub_data_rate_limit=100000000\n",
    "import numpy as np\n",
    "import pandas as pd\n",
    "import os\n",
    "import gc #??? what's this for?\n",
    "\n",
    "%env JOBLIB_TEMP_FOLDER = /tmp"
   ]
  },
  {
   "cell_type": "code",
   "execution_count": 2,
   "metadata": {},
   "outputs": [],
   "source": [
    "from pyspark.sql.functions import *\n",
    "from pyspark.sql.types import *\n",
    "from pyspark.ml.recommendation import ALS, ALSModel\n",
    "from pyspark.context import SparkContext\n",
    "from pyspark.sql.session import SparkSession\n",
    "from pyspark.mllib.evaluation import RegressionMetrics, RankingMetrics\n",
    "from pyspark.ml.evaluation import RegressionEvaluator\n",
    "from pyspark.ml.tuning import ParamGridBuilder, CrossValidator\n",
    "from pyspark import SparkFiles\n",
    "\n",
    "sc = SparkContext('local')\n",
    "spark = SparkSession(sc)"
   ]
  },
  {
   "cell_type": "code",
   "execution_count": 3,
   "metadata": {},
   "outputs": [],
   "source": [
    "# load in data - interactions for collaborative filtering, books for content filtering (too big?)"
   ]
  },
  {
   "cell_type": "raw",
   "metadata": {},
   "source": [
    "sp_interactions = spark.read.csv('goodreads_interactions.csv', header = True)\n",
    "sp_interactions.show()"
   ]
  },
  {
   "cell_type": "raw",
   "metadata": {},
   "source": [
    "# calculate sparsity\n",
    "numerator = sp_interactions.select(\"rating\").count()\n",
    "num_users = sp_interactions.select(\"user_id\").distinct().count()\n",
    "num_books = sp_interactions.select(\"book_id\").distinct().count()\n",
    "denominator = num_users * num_books\n",
    "sparsity = (1.0 - (numerator * 1.0)/denominator) * 100\n",
    "print(\"The sp_interactions dataframe is \", \"%.2f\" % sparsity + \"% empty.\")"
   ]
  },
  {
   "cell_type": "raw",
   "metadata": {
    "scrolled": true
   },
   "source": [
    "# Avg num ratings per book\n",
    "print(\"Avg num ratings per book: \")\n",
    "sp_interactions.groupBy(\"book_id\").count().select(avg(\"count\")).show()\n",
    "\n",
    "# Avg num ratings per users\n",
    "print(\"Avg num ratings per user: \")\n",
    "sp_interactions.groupBy(\"user_id\").count().select(avg(\"count\")).show()"
   ]
  },
  {
   "cell_type": "raw",
   "metadata": {},
   "source": [
    "sp_interactions.printSchema()"
   ]
  },
  {
   "cell_type": "raw",
   "metadata": {},
   "source": [
    "sp_interactions = sp_interactions.select(sp_interactions.user_id.cast(\"integer\"),\n",
    "                                        sp_interactions.book_id.cast(\"integer\"),\n",
    "                                        sp_interactions.is_read.cast(\"integer\"),\n",
    "                                        sp_interactions.rating.cast(\"double\"),\n",
    "                                        sp_interactions.is_reviewed.cast(\"integer\"))\n",
    "sp_interactions.printSchema()"
   ]
  },
  {
   "cell_type": "raw",
   "metadata": {},
   "source": [
    "(training_data, test_data) = sp_interactions.randomSplit([0.80, 0.20], seed=307)"
   ]
  },
  {
   "cell_type": "raw",
   "metadata": {},
   "source": [
    "# continually failed\n",
    "model = cv.fit(training_data)\n",
    "best_model = model.bestModel\n",
    "predictions = best_model.transform(test_data)\n",
    "rmse = evaluator.evaluate(predictions)\n",
    "\n",
    "print(\"**Best Model**\")\n",
    "print(\"RMSE = \"), rmse\n",
    "print(\" Rank: \"), best_model.rank\n",
    "print(\" MaxIter: \"), best_model._java_obj.parent().getMaxIter()\n",
    "print(\" RegParam: \"), best_model._java_obj.parent().getRegParam()"
   ]
  },
  {
   "cell_type": "code",
   "execution_count": 4,
   "metadata": {},
   "outputs": [
    {
     "name": "stdout",
     "output_type": "stream",
     "text": [
      "+-------+-----------------+------------+--------+-----------+----------+-----------------+--------------------+-------------------------+--------------------+--------------------+-------------+--------------+-------------+------------------+-----------------------+---------+---------+---------+---------+---------+--------------------+--------------------+\n",
      "|book_id|goodreads_book_id|best_book_id| work_id|books_count|      isbn|           isbn13|             authors|original_publication_year|      original_title|               title|language_code|average_rating|ratings_count|work_ratings_count|work_text_reviews_count|ratings_1|ratings_2|ratings_3|ratings_4|ratings_5|           image_url|     small_image_url|\n",
      "+-------+-----------------+------------+--------+-----------+----------+-----------------+--------------------+-------------------------+--------------------+--------------------+-------------+--------------+-------------+------------------+-----------------------+---------+---------+---------+---------+---------+--------------------+--------------------+\n",
      "|      1|          2767052|     2767052| 2792775|        272| 439023483|9.78043902348e+12|     Suzanne Collins|                   2008.0|    The Hunger Games|The Hunger Games ...|          eng|          4.34|      4780653|           4942365|                 155254|    66715|   127936|   560092|  1481305|  2706317|https://images.gr...|https://images.gr...|\n",
      "|      2|                3|           3| 4640799|        491| 439554934|9.78043955493e+12|J.K. Rowling, Mar...|                   1997.0|Harry Potter and ...|Harry Potter and ...|          eng|          4.44|      4602479|           4800065|                  75867|    75504|   101676|   455024|  1156318|  3011543|https://images.gr...|https://images.gr...|\n",
      "|      3|            41865|       41865| 3212258|        226| 316015849|9.78031601584e+12|     Stephenie Meyer|                   2005.0|            Twilight|Twilight (Twiligh...|        en-US|          3.57|      3866839|           3916824|                  95009|   456191|   436802|   793319|   875073|  1355439|https://images.gr...|https://images.gr...|\n",
      "|      4|             2657|        2657| 3275794|        487|  61120081|9.78006112008e+12|          Harper Lee|                   1960.0|To Kill a Mocking...|To Kill a Mocking...|          eng|          4.25|      3198671|           3340896|                  72586|    60427|   117415|   446835|  1001952|  1714267|https://images.gr...|https://images.gr...|\n",
      "|      5|             4671|        4671|  245494|       1356| 743273567|9.78074327356e+12| F. Scott Fitzgerald|                   1925.0|    The Great Gatsby|    The Great Gatsby|          eng|          3.89|      2683664|           2773745|                  51992|    86236|   197621|   606158|   936012|   947718|https://images.gr...|https://images.gr...|\n",
      "|      6|         11870085|    11870085|16827462|        226| 525478817|9.78052547881e+12|          John Green|                   2012.0|The Fault in Our ...|The Fault in Our ...|          eng|          4.26|      2346404|           2478609|                 140739|    47994|    92723|   327550|   698471|  1311871|https://images.gr...|https://images.gr...|\n",
      "|      7|             5907|        5907| 1540236|        969| 618260307| 9.7806182603e+12|      J.R.R. Tolkien|                   1937.0|The Hobbit or The...|          The Hobbit|        en-US|          4.25|      2071616|           2196809|                  37653|    46023|    76784|   288649|   665635|  1119718|https://images.gr...|https://images.gr...|\n",
      "|      8|             5107|        5107| 3036731|        360| 316769177|9.78031676917e+12|       J.D. Salinger|                   1951.0|The Catcher in th...|The Catcher in th...|          eng|          3.79|      2044241|           2120637|                  44920|   109383|   185520|   455042|   661516|   709176|https://images.gr...|https://images.gr...|\n",
      "|      9|              960|         960| 3338963|        311|1416524797|9.78141652479e+12|           Dan Brown|                   2000.0|    Angels & Demons |Angels & Demons  ...|        en-CA|          3.85|      2001311|           2078754|                  25112|    77841|   145740|   458429|   716569|   680175|https://images.gr...|https://images.gr...|\n",
      "|     10|             1885|        1885| 3060926|       3455| 679783261|9.78067978327e+12|         Jane Austen|                   1813.0| Pride and Prejudice| Pride and Prejudice|          eng|          4.24|      2035490|           2191465|                  49152|    54700|    86485|   284852|   609755|  1155673|https://images.gr...|https://images.gr...|\n",
      "|     11|            77203|       77203| 3295919|        283|1594480001|   9.78159448e+12|     Khaled Hosseini|                   2003.0|    The Kite Runner |     The Kite Runner|          eng|          4.26|      1813044|           1878095|                  59730|    34288|    59980|   226062|   628174|   929591|https://images.gr...|https://images.gr...|\n",
      "|     12|         13335037|    13335037|13155899|        210|  62024035|9.78006202404e+12|       Veronica Roth|                   2011.0|           Divergent|Divergent (Diverg...|          eng|          4.24|      1903563|           2216814|                 101023|    36315|    82870|   310297|   673028|  1114304|https://images.gr...|https://images.gr...|\n",
      "|     13|             5470|        5470|  153313|        995| 451524934|9.78045152494e+12|George Orwell, Er...|                   1949.0|Nineteen Eighty-Four|                1984|          eng|          4.14|      1956832|           2053394|                  45518|    41845|    86425|   324874|   692021|   908229|https://images.gr...|https://images.gr...|\n",
      "|     14|             7613|        7613| 2207778|        896| 452284244|9.78045228424e+12|       George Orwell|                   1945.0|Animal Farm: A Fa...|         Animal Farm|          eng|          3.87|      1881700|           1982987|                  35472|    66854|   135147|   433432|   698642|   648912|https://images.gr...|https://images.gr...|\n",
      "|     15|            48855|       48855| 3532896|        710| 553296981|9.78055329698e+12|Anne Frank, Elean...|                   1947.0|Het Achterhuis: D...|The Diary of a Yo...|          eng|           4.1|      1972666|           2024493|                  20825|    45225|    91270|   355756|   656870|   875372|https://images.gr...|https://images.gr...|\n",
      "|     16|          2429135|     2429135| 1708725|        274| 307269752|9.78030726975e+12|Stieg Larsson, Re...|                   2005.0|Män som hatar kvi...|The Girl with the...|          eng|          4.11|      1808403|           1929834|                  62543|    54835|    86051|   285413|   667485|   836050|https://images.gr...|https://images.gr...|\n",
      "|     17|          6148028|     6148028| 6171458|        201| 439023491| 9.7804390235e+12|     Suzanne Collins|                   2009.0|       Catching Fire|Catching Fire (Th...|          eng|           4.3|      1831039|           1988079|                  88538|    10492|    48030|   262010|   687238|   980309|https://images.gr...|https://images.gr...|\n",
      "|     18|                5|           5| 2402163|        376|043965548X|9.78043965548e+12|J.K. Rowling, Mar...|                   1999.0|Harry Potter and ...|Harry Potter and ...|          eng|          4.53|      1832823|           1969375|                  36099|     6716|    20413|   166129|   509447|  1266670|https://images.gr...|https://images.gr...|\n",
      "|     19|               34|          34| 3204327|        566| 618346252|9.78061834626e+12|      J.R.R. Tolkien|                   1954.0| The Fellowship o...|The Fellowship of...|          eng|          4.34|      1766803|           1832541|                  15333|    38031|    55862|   202332|   493922|  1042394|https://images.gr...|https://images.gr...|\n",
      "|     20|          7260188|     7260188| 8812783|        239| 439023513|9.78043902351e+12|     Suzanne Collins|                   2010.0|          Mockingjay|Mockingjay (The H...|          eng|          4.03|      1719760|           1870748|                  96274|    30144|   110498|   373060|   618271|   738775|https://images.gr...|https://images.gr...|\n",
      "+-------+-----------------+------------+--------+-----------+----------+-----------------+--------------------+-------------------------+--------------------+--------------------+-------------+--------------+-------------+------------------+-----------------------+---------+---------+---------+---------+---------+--------------------+--------------------+\n",
      "only showing top 20 rows\n",
      "\n"
     ]
    }
   ],
   "source": [
    "# continued failures led me to trim back on size of dataset - choose 10k\n",
    "books10k = spark.read.csv('books10k.csv', header = True)\n",
    "books10k.show()"
   ]
  },
  {
   "cell_type": "code",
   "execution_count": 5,
   "metadata": {
    "scrolled": true
   },
   "outputs": [
    {
     "name": "stdout",
     "output_type": "stream",
     "text": [
      "+-------+-------+------+\n",
      "|user_id|book_id|rating|\n",
      "+-------+-------+------+\n",
      "|      1|    258|     5|\n",
      "|      2|   4081|     4|\n",
      "|      2|    260|     5|\n",
      "|      2|   9296|     5|\n",
      "|      2|   2318|     3|\n",
      "|      2|     26|     4|\n",
      "|      2|    315|     3|\n",
      "|      2|     33|     4|\n",
      "|      2|    301|     5|\n",
      "|      2|   2686|     5|\n",
      "|      2|   3753|     5|\n",
      "|      2|   8519|     5|\n",
      "|      4|     70|     4|\n",
      "|      4|    264|     3|\n",
      "|      4|    388|     4|\n",
      "|      4|     18|     5|\n",
      "|      4|     27|     5|\n",
      "|      4|     21|     5|\n",
      "|      4|      2|     5|\n",
      "|      4|     23|     5|\n",
      "+-------+-------+------+\n",
      "only showing top 20 rows\n",
      "\n"
     ]
    }
   ],
   "source": [
    "# continued failures led me to trim back on size of dataset - choose 10k\n",
    "ratings10k = spark.read.csv('ratings10k.csv', header = True)\n",
    "ratings10k.show()"
   ]
  },
  {
   "cell_type": "code",
   "execution_count": 6,
   "metadata": {},
   "outputs": [
    {
     "name": "stdout",
     "output_type": "stream",
     "text": [
      "The ratings10k dataframe is  98.94% empty.\n"
     ]
    }
   ],
   "source": [
    "# calculate sparsity\n",
    "numerator = ratings10k.select(\"rating\").count()\n",
    "num_users = ratings10k.select(\"user_id\").distinct().count()\n",
    "num_books = ratings10k.select(\"book_id\").distinct().count()\n",
    "denominator = num_users * num_books\n",
    "sparsity = (1.0 - (numerator * 1.0)/denominator) * 100\n",
    "print(\"The ratings10k dataframe is \", \"%.2f\" % sparsity + \"% empty.\")"
   ]
  },
  {
   "cell_type": "code",
   "execution_count": 7,
   "metadata": {},
   "outputs": [
    {
     "name": "stdout",
     "output_type": "stream",
     "text": [
      "Avg num ratings per book: \n",
      "+-----------------+\n",
      "|       avg(count)|\n",
      "+-----------------+\n",
      "|40.15235939404492|\n",
      "+-----------------+\n",
      "\n",
      "Avg num ratings per user: \n",
      "+-----------------+\n",
      "|       avg(count)|\n",
      "+-----------------+\n",
      "|60.87513199577614|\n",
      "+-----------------+\n",
      "\n"
     ]
    }
   ],
   "source": [
    "# Avg num ratings per book\n",
    "print(\"Avg num ratings per book: \")\n",
    "ratings10k.groupBy(\"book_id\").count().select(avg(\"count\")).show()\n",
    "\n",
    "# Avg num ratings per users\n",
    "print(\"Avg num ratings per user: \")\n",
    "ratings10k.groupBy(\"user_id\").count().select(avg(\"count\")).show()"
   ]
  },
  {
   "cell_type": "code",
   "execution_count": 8,
   "metadata": {
    "scrolled": true
   },
   "outputs": [
    {
     "name": "stdout",
     "output_type": "stream",
     "text": [
      "root\n",
      " |-- user_id: integer (nullable = true)\n",
      " |-- book_id: integer (nullable = true)\n",
      " |-- rating: float (nullable = true)\n",
      "\n"
     ]
    }
   ],
   "source": [
    "ratings10k = ratings10k.select(ratings10k.user_id.cast(\"integer\"),\n",
    "                                        ratings10k.book_id.cast(\"integer\"),\n",
    "                                        ratings10k.rating.cast(\"float\"))\n",
    "ratings10k.printSchema()"
   ]
  },
  {
   "cell_type": "code",
   "execution_count": 9,
   "metadata": {},
   "outputs": [
    {
     "name": "stdout",
     "output_type": "stream",
     "text": [
      "+-------+-------+------+\n",
      "|user_id|book_id|rating|\n",
      "+-------+-------+------+\n",
      "|    463|    471|   4.0|\n",
      "|    463|    148|   0.0|\n",
      "|    463|   2142|   0.0|\n",
      "|    463|   3997|   0.0|\n",
      "|    463|    496|   0.0|\n",
      "|    463|   1580|   0.0|\n",
      "|    463|   2366|   0.0|\n",
      "|    463|    463|   0.0|\n",
      "|    463|   1238|   0.0|\n",
      "|    463|    833|   0.0|\n",
      "|    463|   1088|   0.0|\n",
      "|    463|   6620|   0.0|\n",
      "|    463|   1591|   0.0|\n",
      "|    463|   9852|   0.0|\n",
      "|    463|   4101|   0.0|\n",
      "|    463|   3918|   0.0|\n",
      "|    463|   6397|   0.0|\n",
      "|    463|   1342|   0.0|\n",
      "|    463|   7253|   0.0|\n",
      "|    463|   3794|   0.0|\n",
      "+-------+-------+------+\n",
      "only showing top 20 rows\n",
      "\n"
     ]
    }
   ],
   "source": [
    "# correct the format to include zeros\n",
    "\n",
    "users = ratings10k.select(\"user_id\").distinct()\n",
    "books = ratings10k.select(\"book_id\").distinct()\n",
    "\n",
    "# Cross join users and products\n",
    "cj = users.crossJoin(books)\n",
    "ratings = cj.join(ratings10k, [\"user_id\", \"book_id\"], \"left\").fillna(0)\n",
    "ratings.show()"
   ]
  },
  {
   "cell_type": "code",
   "execution_count": 11,
   "metadata": {},
   "outputs": [],
   "source": [
    "(train, test) = ratings.randomSplit([0.80, 0.20], seed=731)"
   ]
  },
  {
   "cell_type": "code",
   "execution_count": 12,
   "metadata": {},
   "outputs": [
    {
     "name": "stdout",
     "output_type": "stream",
     "text": [
      "RMSE: \n"
     ]
    },
    {
     "data": {
      "text/plain": [
       "(None, 0.39640662340632277)"
      ]
     },
     "execution_count": 12,
     "metadata": {},
     "output_type": "execute_result"
    }
   ],
   "source": [
    "als_model = ALS(userCol = \"user_id\", itemCol = \"book_id\", ratingCol = \"rating\",\n",
    "               nonnegative = True,\n",
    "               coldStartStrategy = \"drop\",\n",
    "               implicitPrefs = False)\n",
    "model = als_model.fit(train)\n",
    "predictions = model.transform(test)\n",
    "evaluator = RegressionEvaluator(metricName = 'rmse', labelCol = 'rating',\n",
    "                               predictionCol = 'prediction')\n",
    "rmse = evaluator.evaluate(predictions)\n",
    "print(\"RMSE: \"), rmse"
   ]
  },
  {
   "cell_type": "code",
   "execution_count": 13,
   "metadata": {
    "scrolled": false
   },
   "outputs": [
    {
     "name": "stdout",
     "output_type": "stream",
     "text": [
      "+-------+-------+------+------------+\n",
      "|user_id|book_id|rating|  prediction|\n",
      "+-------+-------+------+------------+\n",
      "|   1645|    148|   4.0| 0.049995024|\n",
      "|   3175|    148|   0.0|  0.05377537|\n",
      "|   3918|    148|   0.0|   0.1438313|\n",
      "|   5300|    148|   0.0| 0.065395646|\n",
      "|   1025|    148|   0.0| 0.051750187|\n",
      "|   1127|    148|   0.0|  0.07879922|\n",
      "|   1507|    148|   0.0|  0.16217102|\n",
      "|   2387|    148|   0.0| 0.017485976|\n",
      "|   2563|    148|   0.0|  0.01884679|\n",
      "|   3475|    148|   0.0|  0.03814276|\n",
      "|   4190|    148|   0.0| 0.064677484|\n",
      "|   4929|    148|   0.0|  0.03870188|\n",
      "|   1143|    148|   0.0|   0.1420587|\n",
      "|   3000|    148|   0.0|8.5675006E-4|\n",
      "|    808|    148|   0.0|  0.09464113|\n",
      "|   1265|    148|   0.0|  0.05013421|\n",
      "|   3098|    148|   0.0|  0.03183744|\n",
      "|   4078|    148|   0.0|  0.07300787|\n",
      "|   4684|    148|   0.0|  0.09861391|\n",
      "|   5223|    148|   0.0|  0.15989798|\n",
      "+-------+-------+------+------------+\n",
      "only showing top 20 rows\n",
      "\n"
     ]
    }
   ],
   "source": [
    "predictions.show()"
   ]
  },
  {
   "cell_type": "code",
   "execution_count": 13,
   "metadata": {},
   "outputs": [],
   "source": [
    "# tweak model by playing with rank, MaxIter, RegParam, goal = lowest RMSE"
   ]
  },
  {
   "cell_type": "code",
   "execution_count": 14,
   "metadata": {},
   "outputs": [
    {
     "name": "stdout",
     "output_type": "stream",
     "text": [
      "RMSE: \n"
     ]
    },
    {
     "data": {
      "text/plain": [
       "(None, 0.40559786366728084)"
      ]
     },
     "execution_count": 14,
     "metadata": {},
     "output_type": "execute_result"
    }
   ],
   "source": [
    "# change rank only (chose 16 b/c it was recommended by Goodreads paper)\n",
    "als_model2 = ALS(userCol = \"user_id\", itemCol = \"book_id\", ratingCol = \"rating\",\n",
    "                 rank = 16, maxIter = 10, regParam = 1,\n",
    "               nonnegative = True,\n",
    "               coldStartStrategy = \"drop\",\n",
    "               implicitPrefs = False)\n",
    "model2 = als_model2.fit(train)\n",
    "predictions2 = model2.transform(test)\n",
    "evaluator = RegressionEvaluator(metricName = 'rmse', labelCol = 'rating',\n",
    "                               predictionCol = 'prediction')\n",
    "rmse2 = evaluator.evaluate(predictions2)\n",
    "print(\"RMSE: \"), rmse2"
   ]
  },
  {
   "cell_type": "code",
   "execution_count": 15,
   "metadata": {},
   "outputs": [
    {
     "name": "stdout",
     "output_type": "stream",
     "text": [
      "+-------+-------+------+----------+\n",
      "|user_id|book_id|rating|prediction|\n",
      "+-------+-------+------+----------+\n",
      "|   1645|    148|   4.0|       0.0|\n",
      "|   3175|    148|   0.0|       0.0|\n",
      "|   3918|    148|   0.0|       0.0|\n",
      "|   5300|    148|   0.0|       0.0|\n",
      "|   1025|    148|   0.0|       0.0|\n",
      "|   1127|    148|   0.0|       0.0|\n",
      "|   1507|    148|   0.0|       0.0|\n",
      "|   2387|    148|   0.0|       0.0|\n",
      "|   2563|    148|   0.0|       0.0|\n",
      "|   3475|    148|   0.0|       0.0|\n",
      "|   4190|    148|   0.0|       0.0|\n",
      "|   4929|    148|   0.0|       0.0|\n",
      "|   1143|    148|   0.0|       0.0|\n",
      "|   3000|    148|   0.0|       0.0|\n",
      "|    808|    148|   0.0|       0.0|\n",
      "|   1265|    148|   0.0|       0.0|\n",
      "|   3098|    148|   0.0|       0.0|\n",
      "|   4078|    148|   0.0|       0.0|\n",
      "|   4684|    148|   0.0|       0.0|\n",
      "|   5223|    148|   0.0|       0.0|\n",
      "+-------+-------+------+----------+\n",
      "only showing top 20 rows\n",
      "\n"
     ]
    }
   ],
   "source": [
    "predictions2.show()"
   ]
  },
  {
   "cell_type": "code",
   "execution_count": 16,
   "metadata": {},
   "outputs": [
    {
     "name": "stdout",
     "output_type": "stream",
     "text": [
      "Num models to be tested:  32\n"
     ]
    }
   ],
   "source": [
    "param_grid = ParamGridBuilder().addGrid(als_model.rank, [5, 10, 15, 20]).addGrid(\n",
    "    als_model.maxIter, [5, 10]).addGrid(als_model.regParam, [0.01, 0.05, 0.1, 0.15]).build()\n",
    "evaluator = RegressionEvaluator(metricName = \"rmse\", labelCol = \"rating\",\n",
    "                               predictionCol = \"prediction\")\n",
    "cv = CrossValidator(estimator = als_model,\n",
    "                   estimatorParamMaps = param_grid,\n",
    "                   evaluator = evaluator,\n",
    "                   numFolds = 5)\n",
    "print (\"Num models to be tested: \", len(param_grid))"
   ]
  },
  {
   "cell_type": "code",
   "execution_count": 17,
   "metadata": {},
   "outputs": [],
   "source": [
    "modelcv = cv.fit(train)"
   ]
  },
  {
   "cell_type": "code",
   "execution_count": 18,
   "metadata": {},
   "outputs": [
    {
     "name": "stdout",
     "output_type": "stream",
     "text": [
      "<class 'pyspark.ml.recommendation.ALSModel'>\n"
     ]
    }
   ],
   "source": [
    "best_model = modelcv.bestModel\n",
    "print(type(best_model))"
   ]
  },
  {
   "cell_type": "code",
   "execution_count": 20,
   "metadata": {},
   "outputs": [
    {
     "name": "stdout",
     "output_type": "stream",
     "text": [
      "0.3622062135603919\n"
     ]
    }
   ],
   "source": [
    "test_predictions = best_model.transform(test)\n",
    "rmse = evaluator.evaluate(test_predictions)\n",
    "print(rmse)"
   ]
  },
  {
   "cell_type": "code",
   "execution_count": 21,
   "metadata": {
    "scrolled": true
   },
   "outputs": [
    {
     "name": "stdout",
     "output_type": "stream",
     "text": [
      "25\n"
     ]
    }
   ],
   "source": [
    "print(best_model.rank) # k value (# of latent features)"
   ]
  },
  {
   "cell_type": "code",
   "execution_count": 22,
   "metadata": {},
   "outputs": [
    {
     "name": "stdout",
     "output_type": "stream",
     "text": [
      "10\n",
      "0.01\n"
     ]
    }
   ],
   "source": [
    "print(best_model._java_obj.parent().getMaxIter())\n",
    "print(best_model._java_obj.parent().getRegParam())"
   ]
  },
  {
   "cell_type": "code",
   "execution_count": null,
   "metadata": {},
   "outputs": [],
   "source": [
    "# best model: k = 25, maxIter = 10, regParam = 0.01, RMSE = 0.3622"
   ]
  },
  {
   "cell_type": "code",
   "execution_count": 23,
   "metadata": {
    "scrolled": true
   },
   "outputs": [
    {
     "name": "stdout",
     "output_type": "stream",
     "text": [
      "+-------+-------+------+-----------+\n",
      "|user_id|book_id|rating| prediction|\n",
      "+-------+-------+------+-----------+\n",
      "|   1645|    148|   4.0| 0.70989245|\n",
      "|   3175|    148|   0.0| 0.15258428|\n",
      "|   3918|    148|   0.0| 0.71268547|\n",
      "|   5300|    148|   0.0|   0.302438|\n",
      "|   1025|    148|   0.0|   0.245731|\n",
      "|   1127|    148|   0.0| 0.13814119|\n",
      "|   1507|    148|   0.0| 0.27556774|\n",
      "|   2387|    148|   0.0| 0.13265418|\n",
      "|   2563|    148|   0.0|   0.218646|\n",
      "|   3475|    148|   0.0| 0.22585842|\n",
      "|   4190|    148|   0.0| 0.69588304|\n",
      "|   4929|    148|   0.0| 0.15377276|\n",
      "|   1143|    148|   0.0| 0.58321583|\n",
      "|   3000|    148|   0.0|0.012677923|\n",
      "|    808|    148|   0.0| 0.49552304|\n",
      "|   1265|    148|   0.0|  0.0973807|\n",
      "|   3098|    148|   0.0| 0.16174576|\n",
      "|   4078|    148|   0.0| 0.02927421|\n",
      "|   4684|    148|   0.0|0.107607946|\n",
      "|   5223|    148|   0.0|  0.9644963|\n",
      "+-------+-------+------+-----------+\n",
      "only showing top 20 rows\n",
      "\n"
     ]
    }
   ],
   "source": [
    "test_predictions.show()"
   ]
  },
  {
   "cell_type": "code",
   "execution_count": 26,
   "metadata": {},
   "outputs": [
    {
     "name": "stdout",
     "output_type": "stream",
     "text": [
      "+-------+--------------------+\n",
      "|user_id|     recommendations|\n",
      "+-------+--------------------+\n",
      "|   1580|[[11, 1.0400147],...|\n",
      "|   5300|[[37, 2.0233123],...|\n",
      "|   1591|[[167, 0.19397956...|\n",
      "|   4101|[[11, 1.3917072],...|\n",
      "|   1342|[[476, 0.63664454...|\n",
      "|   2122|[[4, 1.1893904], ...|\n",
      "|    463|[[7, 4.087946], [...|\n",
      "|    833|[[94, 1.4590017],...|\n",
      "|   3794|[[168, 1.8770207]...|\n",
      "|   1645|[[11, 2.7405286],...|\n",
      "|   3175|[[19, 4.241493], ...|\n",
      "|   2366|[[205, 4.1261687]...|\n",
      "|   5156|[[65, 3.4123454],...|\n",
      "|   3997|[[10, 0.30373782]...|\n",
      "|   1238|[[11, 3.7416406],...|\n",
      "|   3918|[[50, 4.152341], ...|\n",
      "|   4818|[[26, 1.1737348],...|\n",
      "|   5518|[[125, 1.6194955]...|\n",
      "|   1829|[[50, 1.9392428],...|\n",
      "|   3749|[[168, 0.92164904...|\n",
      "+-------+--------------------+\n",
      "only showing top 20 rows\n",
      "\n"
     ]
    }
   ],
   "source": [
    "# view recommendations\n",
    "userRecs = best_model.recommendForAllUsers(10)\n",
    "userRecs.show()"
   ]
  },
  {
   "cell_type": "code",
   "execution_count": 36,
   "metadata": {},
   "outputs": [
    {
     "name": "stdout",
     "output_type": "stream",
     "text": [
      "User 60's Ratings:\n",
      "+-------+-------+------+\n",
      "|user_id|book_id|rating|\n",
      "+-------+-------+------+\n",
      "|      2|    260|   5.0|\n",
      "|      2|   3753|   5.0|\n",
      "|      2|   9296|   5.0|\n",
      "|      2|   8519|   5.0|\n",
      "|      2|   2686|   5.0|\n",
      "|      2|    301|   5.0|\n",
      "|      2|   4081|   4.0|\n",
      "|      2|     33|   4.0|\n",
      "|      2|     26|   4.0|\n",
      "|      2|   2318|   3.0|\n",
      "|      2|    315|   3.0|\n",
      "|      2|    471|   0.0|\n",
      "|      2|    496|   0.0|\n",
      "|      2|    148|   0.0|\n",
      "|      2|   1580|   0.0|\n",
      "|      2|   1238|   0.0|\n",
      "|      2|   2142|   0.0|\n",
      "|      2|   2366|   0.0|\n",
      "|      2|    833|   0.0|\n",
      "|      2|   3997|   0.0|\n",
      "+-------+-------+------+\n",
      "only showing top 20 rows\n",
      "\n",
      "User 60s Recommendations:\n",
      "+-------+--------------------+\n",
      "|user_id|     recommendations|\n",
      "+-------+--------------------+\n",
      "|      2|[[11, 0.77537215]...|\n",
      "+-------+--------------------+\n",
      "\n",
      "User 63's Ratings:\n",
      "+-------+-------+------+\n",
      "|user_id|book_id|rating|\n",
      "+-------+-------+------+\n",
      "|     63|    323|   5.0|\n",
      "|     63|   6772|   5.0|\n",
      "|     63|    592|   5.0|\n",
      "|     63|   7151|   5.0|\n",
      "|     63|   4475|   5.0|\n",
      "|     63|   8455|   5.0|\n",
      "|     63|     80|   5.0|\n",
      "|     63|   3913|   4.0|\n",
      "|     63|     85|   4.0|\n",
      "|     63|   1113|   4.0|\n",
      "|     63|    498|   4.0|\n",
      "|     63|   4531|   4.0|\n",
      "|     63|   6160|   4.0|\n",
      "|     63|    709|   4.0|\n",
      "|     63|    614|   4.0|\n",
      "|     63|    485|   4.0|\n",
      "|     63|    162|   4.0|\n",
      "|     63|   5374|   4.0|\n",
      "|     63|   9858|   4.0|\n",
      "|     63|    669|   4.0|\n",
      "+-------+-------+------+\n",
      "only showing top 20 rows\n",
      "\n",
      "User 63's Recommendations:\n",
      "+-------+--------------------+\n",
      "|user_id|     recommendations|\n",
      "+-------+--------------------+\n",
      "|     63|[[58, 2.5218172],...|\n",
      "+-------+--------------------+\n",
      "\n"
     ]
    }
   ],
   "source": [
    "# Look at user 60's ratings\n",
    "print(\"User 2's Ratings:\")\n",
    "ratings.filter(col(\"user_id\") == 2).sort(\"rating\", ascending = False).show()\n",
    "\n",
    "# Look at the movies recommended to user 60\n",
    "print(\"User 2's Recommendations:\")\n",
    "userRecs.filter(col(\"user_id\") == 2).show()\n",
    "\n",
    "# Look at user 63's ratings\n",
    "print(\"User 63's Ratings:\")\n",
    "ratings.filter(col(\"user_id\") == 63).sort(\"rating\", ascending = False).show()\n",
    "\n",
    "# Look at the movies recommended to user 63\n",
    "print(\"User 63's Recommendations:\")\n",
    "userRecs.filter(col(\"user_id\") == 63).show()"
   ]
  },
  {
   "cell_type": "code",
   "execution_count": 50,
   "metadata": {},
   "outputs": [
    {
     "name": "stdout",
     "output_type": "stream",
     "text": [
      "+-------+----------------+\n",
      "|user_id|         BookRec|\n",
      "+-------+----------------+\n",
      "|   1580| [11, 1.0400147]|\n",
      "|   1580|[33, 0.65387654]|\n",
      "|   1580|[100, 0.5300547]|\n",
      "|   1580|[38, 0.52326894]|\n",
      "|   1580| [67, 0.4987593]|\n",
      "|   1580|[57, 0.47979054]|\n",
      "|   1580|[45, 0.47413552]|\n",
      "|   1580| [4, 0.46988013]|\n",
      "|   1580| [22, 0.4662242]|\n",
      "|   1580|[26, 0.45919847]|\n",
      "|   5300| [37, 2.0233123]|\n",
      "|   5300| [58, 1.9057353]|\n",
      "|   5300| [59, 1.7356001]|\n",
      "|   5300|  [29, 1.725448]|\n",
      "|   5300|[138, 1.6259873]|\n",
      "|   5300| [50, 1.6185813]|\n",
      "|   5300|[102, 1.6020172]|\n",
      "|   5300| [15, 1.5831457]|\n",
      "|   5300|[117, 1.5628898]|\n",
      "|   5300| [85, 1.5290784]|\n",
      "+-------+----------------+\n",
      "only showing top 20 rows\n",
      "\n"
     ]
    }
   ],
   "source": [
    "exploded_recs = spark.sql(\"SELECT user_id, explode(recommendations) AS BookRec FROM ALS_recs_temp\")\n",
    "exploded_recs.show()"
   ]
  }
 ],
 "metadata": {
  "kernelspec": {
   "display_name": "Python 3",
   "language": "python",
   "name": "python3"
  },
  "language_info": {
   "codemirror_mode": {
    "name": "ipython",
    "version": 3
   },
   "file_extension": ".py",
   "mimetype": "text/x-python",
   "name": "python",
   "nbconvert_exporter": "python",
   "pygments_lexer": "ipython3",
   "version": "3.8.3"
  }
 },
 "nbformat": 4,
 "nbformat_minor": 4
}
