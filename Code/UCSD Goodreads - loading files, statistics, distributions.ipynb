{
 "cells": [
  {
   "cell_type": "markdown",
   "metadata": {},
   "source": [
    "### Code from https://github.com/MengtingWan/goodreads/blob/master/samples.ipynb"
   ]
  },
  {
   "cell_type": "code",
   "execution_count": 1,
   "metadata": {},
   "outputs": [],
   "source": [
    "import gzip\n",
    "import json\n",
    "import re\n",
    "import os\n",
    "import sys\n",
    "import numpy as np\n",
    "import pandas as pd\n",
    "import matplotlib.pyplot as plt\n",
    "\n",
    "pd.options.display.float_format = '{:,}'.format\n",
    "%matplotlib inline"
   ]
  },
  {
   "cell_type": "code",
   "execution_count": 2,
   "metadata": {},
   "outputs": [],
   "source": [
    "def load_data(file_name, head = 500):\n",
    "    count = 0\n",
    "    data = []\n",
    "    with gzip.open(file_name) as fin:\n",
    "        for l in fin:\n",
    "            d = json.loads(l)\n",
    "            count += 1\n",
    "            data.append(d)\n",
    "            \n",
    "            # break if reaches the 100th line\n",
    "            if (head is not None) and (count > head):\n",
    "                break\n",
    "    return data"
   ]
  },
  {
   "cell_type": "code",
   "execution_count": 3,
   "metadata": {},
   "outputs": [],
   "source": [
    "books = load_data('goodreads_books.json.gz')\n",
    "authors = load_data('goodreads_book_authors.json.gz')\n",
    "works = load_data('goodreads_book_works.json.gz')\n",
    "series = load_data('goodreads_book_series.json.gz')\n",
    "genres = load_data('goodreads_book_genres_initial.json.gz')"
   ]
  },
  {
   "cell_type": "code",
   "execution_count": 4,
   "metadata": {},
   "outputs": [
    {
     "name": "stdout",
     "output_type": "stream",
     "text": [
      " == sample record (books) ==\n"
     ]
    },
    {
     "data": {
      "text/plain": [
       "{'isbn': '0671015311',\n",
       " 'text_reviews_count': '126',\n",
       " 'series': ['161229'],\n",
       " 'country_code': 'US',\n",
       " 'language_code': 'eng',\n",
       " 'popular_shelves': [{'count': '1607', 'name': 'to-read'},\n",
       "  {'count': '164', 'name': 'mystery'},\n",
       "  {'count': '136', 'name': 'historical-fiction'},\n",
       "  {'count': '41', 'name': 'historical'},\n",
       "  {'count': '40', 'name': 'fiction'},\n",
       "  {'count': '33', 'name': 'historical-mystery'},\n",
       "  {'count': '25', 'name': 'series'},\n",
       "  {'count': '24', 'name': 'mysteries'},\n",
       "  {'count': '16', 'name': 'currently-reading'},\n",
       "  {'count': '15', 'name': 'tudor'},\n",
       "  {'count': '14', 'name': 'audiobook'},\n",
       "  {'count': '14', 'name': 'england'},\n",
       "  {'count': '13', 'name': 'historical-mysteries'},\n",
       "  {'count': '10', 'name': 'owned'},\n",
       "  {'count': '9', 'name': 'crime'},\n",
       "  {'count': '9', 'name': '16th-century'},\n",
       "  {'count': '8', 'name': 'first-in-series'},\n",
       "  {'count': '8', 'name': 'ursula-blanchard'},\n",
       "  {'count': '7', 'name': 'mystery-thriller'},\n",
       "  {'count': '7', 'name': 'audio'},\n",
       "  {'count': '7', 'name': 'mystery-historical'},\n",
       "  {'count': '7', 'name': 'library'},\n",
       "  {'count': '7', 'name': 'audiobooks'},\n",
       "  {'count': '6', 'name': 'kindle'},\n",
       "  {'count': '6', 'name': 'books-i-own'},\n",
       "  {'count': '5', 'name': 'favorites'},\n",
       "  {'count': '5', 'name': 'cozy-mystery'},\n",
       "  {'count': '5', 'name': 'tudor-fiction'},\n",
       "  {'count': '5', 'name': 'medieval'},\n",
       "  {'count': '4', 'name': 'british'},\n",
       "  {'count': '4', 'name': 'elizabeth'},\n",
       "  {'count': '4', 'name': 'history'},\n",
       "  {'count': '4', 'name': 'elizabethan'},\n",
       "  {'count': '4', 'name': 'fiction-historical'},\n",
       "  {'count': '4', 'name': 'fiona-buckley'},\n",
       "  {'count': '4', 'name': '1500s'},\n",
       "  {'count': '3', 'name': 'ebooks'},\n",
       "  {'count': '3', 'name': 'britain'},\n",
       "  {'count': '3', 'name': 'maybe'},\n",
       "  {'count': '3', 'name': 'adult-fiction'},\n",
       "  {'count': '3', 'name': 'mystery-crime'},\n",
       "  {'count': '3', 'name': 'mystery-suspense'},\n",
       "  {'count': '3', 'name': 'tudor-england'},\n",
       "  {'count': '3', 'name': 'detective'},\n",
       "  {'count': '3', 'name': 'adult'},\n",
       "  {'count': '3', 'name': 'novels'},\n",
       "  {'count': '3', 'name': 'tudors'},\n",
       "  {'count': '3', 'name': 'to-buy'},\n",
       "  {'count': '3', 'name': 'mystery-series'},\n",
       "  {'count': '2', 'name': 'hist-myst'},\n",
       "  {'count': '2', 'name': 'read-in-2017'},\n",
       "  {'count': '2', 'name': 'policier-historique'},\n",
       "  {'count': '2', 'name': 'who-done-it'},\n",
       "  {'count': '2', 'name': 'part-of-a-series'},\n",
       "  {'count': '2', 'name': 'ebook'},\n",
       "  {'count': '2', 'name': 'nook-books'},\n",
       "  {'count': '2', 'name': 'tudor-era'},\n",
       "  {'count': '2', 'name': 'women'},\n",
       "  {'count': '2', 'name': 'detectives'},\n",
       "  {'count': '2', 'name': 'cozy-mysteries'},\n",
       "  {'count': '2', 'name': 'novel'},\n",
       "  {'count': '2', 'name': 'review'},\n",
       "  {'count': '2', 'name': 'my-books'},\n",
       "  {'count': '2', 'name': 'read-in-2013'},\n",
       "  {'count': '2', 'name': 'female-protagonist'},\n",
       "  {'count': '2', 'name': 'british-mystery'},\n",
       "  {'count': '2', 'name': 'historical-fic'},\n",
       "  {'count': '2', 'name': 'women-sleuths'},\n",
       "  {'count': '2', 'name': 'wish-list'},\n",
       "  {'count': '2', 'name': 'audio-books'},\n",
       "  {'count': '2', 'name': 'read-in-2011'},\n",
       "  {'count': '2', 'name': 'audible'},\n",
       "  {'count': '2', 'name': 'british-historical-fiction'},\n",
       "  {'count': '2', 'name': 'borrowed-from-library'},\n",
       "  {'count': '2', 'name': 'books-in-a-series'},\n",
       "  {'count': '2', 'name': 'to-read-historical-fiction'},\n",
       "  {'count': '2', 'name': 'library-books'},\n",
       "  {'count': '2', 'name': 'renaissance'},\n",
       "  {'count': '2', 'name': '2005'},\n",
       "  {'count': '2', 'name': 'audio-book'},\n",
       "  {'count': '2', 'name': 'read-2009'},\n",
       "  {'count': '2', 'name': 'elizabeth-i'},\n",
       "  {'count': '1', 'name': 'openlibrary-org'},\n",
       "  {'count': '1', 'name': 'series-paused'},\n",
       "  {'count': '1', 'name': 'abandoned'},\n",
       "  {'count': '1', 'name': 'audio-version-read'},\n",
       "  {'count': '1', 'name': 't-title'},\n",
       "  {'count': '1', 'name': '000001-series-i-m-reading'},\n",
       "  {'count': '1', 'name': '0000001-first-one-series'},\n",
       "  {'count': '1', 'name': 'series-i-m-following'},\n",
       "  {'count': '1', 'name': 'historical-mystery-monopoly-2017'},\n",
       "  {'count': '1', 'name': '2017-11'},\n",
       "  {'count': '1', 'name': 'rensing-center'},\n",
       "  {'count': '1', 'name': 'cozi-s'},\n",
       "  {'count': '1', 'name': '2017newauthor'},\n",
       "  {'count': '1', 'name': '2017library'},\n",
       "  {'count': '1', 'name': '2017abc'},\n",
       "  {'count': '1', 'name': 'own-but-need-to-be-read'},\n",
       "  {'count': '1', 'name': 'not-available'},\n",
       "  {'count': '1', 'name': 'man-ref'}],\n",
       " 'asin': '',\n",
       " 'is_ebook': 'false',\n",
       " 'average_rating': '3.72',\n",
       " 'kindle_asin': 'B00BOTY2JQ',\n",
       " 'similar_books': ['612301',\n",
       "  '713500',\n",
       "  '166679',\n",
       "  '27932',\n",
       "  '4320305',\n",
       "  '11285472',\n",
       "  '1625740',\n",
       "  '88918',\n",
       "  '630303',\n",
       "  '140554',\n",
       "  '838133',\n",
       "  '1142347'],\n",
       " 'description': 'In this compelling debut of her historical mystery series, Fiona Buckley introduces Ursula Blanchard, a widowed young mother who has become lady-in-waiting to Queen Elizabeth I. Armed with a sharp eye, dangerous curiosity, and uncanny intelligence, Ursula pledges...\\nTo Shield the Queen\\nRumor has linked Queen Elizabeth I to her master of horse, Robin Dudley. As gossip would have it, only his ailing wife, Amy, prevents marriage between Dudley and the Queen. To quell the idle tongues at court, the Queen dispatches Ursula Blanchard to tend to the sick woman\\'s needs. But not even Ursula can prevent the \"accident\" that takes Amy\\'s life. Did she fall or was she pushed? Was Ursula a pawn of Dudley and the Queen?\\nSuddenly Ursula finds herself at the center of the scandal, trying to protect Elizabeth as she loses her heart to a Frenchman who may be flirting with sedition against her Queen. She can trust no one, neither her lover nor her monarch, as she sets out to find the truth in a glittering court that conceals a wellspring of blood and lies.',\n",
       " 'format': 'Paperback',\n",
       " 'link': 'https://www.goodreads.com/book/show/388674.To_Shield_the_Queen',\n",
       " 'authors': [{'author_id': '33981', 'role': ''}],\n",
       " 'publisher': 'Pocket Books',\n",
       " 'num_pages': '336',\n",
       " 'publication_day': '1',\n",
       " 'isbn13': '9780671015312',\n",
       " 'publication_month': '10',\n",
       " 'edition_information': '',\n",
       " 'publication_year': '1998',\n",
       " 'url': 'https://www.goodreads.com/book/show/388674.To_Shield_the_Queen',\n",
       " 'image_url': 'https://images.gr-assets.com/books/1325787198m/388674.jpg',\n",
       " 'book_id': '388674',\n",
       " 'ratings_count': '1371',\n",
       " 'work_id': '2208431',\n",
       " 'title': 'To Shield the Queen (Ursula Blanchard, #1)',\n",
       " 'title_without_series': 'To Shield the Queen (Ursula Blanchard, #1)'}"
      ]
     },
     "metadata": {},
     "output_type": "display_data"
    },
    {
     "name": "stdout",
     "output_type": "stream",
     "text": [
      " == sample record (authors) ==\n"
     ]
    },
    {
     "data": {
      "text/plain": [
       "{'average_rating': '3.82',\n",
       " 'author_id': '2905297',\n",
       " 'text_reviews_count': '43579',\n",
       " 'name': 'Lauren Kate',\n",
       " 'ratings_count': '907978'}"
      ]
     },
     "metadata": {},
     "output_type": "display_data"
    },
    {
     "name": "stdout",
     "output_type": "stream",
     "text": [
      " == sample record (works) ==\n"
     ]
    },
    {
     "data": {
      "text/plain": [
       "{'books_count': '144',\n",
       " 'reviews_count': '10794',\n",
       " 'original_publication_month': '',\n",
       " 'default_description_language_code': '',\n",
       " 'text_reviews_count': '238',\n",
       " 'best_book_id': '19336',\n",
       " 'original_publication_year': '1908',\n",
       " 'original_title': 'The Tale of Jemima Puddle-Duck',\n",
       " 'rating_dist': '5:3275|4:2562|3:1910|2:366|1:102|total:8215',\n",
       " 'default_chaptering_book_id': '',\n",
       " 'original_publication_day': '',\n",
       " 'original_language_id': '',\n",
       " 'ratings_count': '8215',\n",
       " 'media_type': 'book',\n",
       " 'ratings_sum': '33187',\n",
       " 'work_id': '2690022'}"
      ]
     },
     "metadata": {},
     "output_type": "display_data"
    },
    {
     "name": "stdout",
     "output_type": "stream",
     "text": [
      " == sample record (series) ==\n"
     ]
    },
    {
     "data": {
      "text/plain": [
       "{'numbered': 'true',\n",
       " 'note': '',\n",
       " 'description': '',\n",
       " 'title': 'Night Runner',\n",
       " 'series_works_count': '3',\n",
       " 'series_id': '433405',\n",
       " 'primary_work_count': '2'}"
      ]
     },
     "metadata": {},
     "output_type": "display_data"
    },
    {
     "name": "stdout",
     "output_type": "stream",
     "text": [
      " == sample record (series) ==\n"
     ]
    },
    {
     "data": {
      "text/plain": [
       "{'book_id': '2741850',\n",
       " 'genres': {'fantasy, paranormal': 1758,\n",
       "  'romance': 317,\n",
       "  'fiction': 153,\n",
       "  'mystery, thriller, crime': 38}}"
      ]
     },
     "metadata": {},
     "output_type": "display_data"
    }
   ],
   "source": [
    "print(' == sample record (books) ==')\n",
    "display(np.random.choice(books))\n",
    "print(' == sample record (authors) ==')\n",
    "display(np.random.choice(authors))\n",
    "print(' == sample record (works) ==')\n",
    "display(np.random.choice(works))\n",
    "print(' == sample record (series) ==')\n",
    "display(np.random.choice(series))\n",
    "print(' == sample record (series) ==')\n",
    "display(np.random.choice(genres))"
   ]
  },
  {
   "cell_type": "code",
   "execution_count": 5,
   "metadata": {},
   "outputs": [],
   "source": [
    "interactions = pd.read_csv('goodreads_interactions.csv')"
   ]
  },
  {
   "cell_type": "code",
   "execution_count": 6,
   "metadata": {},
   "outputs": [
    {
     "data": {
      "text/html": [
       "<div>\n",
       "<style scoped>\n",
       "    .dataframe tbody tr th:only-of-type {\n",
       "        vertical-align: middle;\n",
       "    }\n",
       "\n",
       "    .dataframe tbody tr th {\n",
       "        vertical-align: top;\n",
       "    }\n",
       "\n",
       "    .dataframe thead th {\n",
       "        text-align: right;\n",
       "    }\n",
       "</style>\n",
       "<table border=\"1\" class=\"dataframe\">\n",
       "  <thead>\n",
       "    <tr style=\"text-align: right;\">\n",
       "      <th></th>\n",
       "      <th>user_id</th>\n",
       "      <th>book_id</th>\n",
       "      <th>is_read</th>\n",
       "      <th>rating</th>\n",
       "      <th>is_reviewed</th>\n",
       "    </tr>\n",
       "  </thead>\n",
       "  <tbody>\n",
       "    <tr>\n",
       "      <th>0</th>\n",
       "      <td>0</td>\n",
       "      <td>948</td>\n",
       "      <td>1</td>\n",
       "      <td>5</td>\n",
       "      <td>0</td>\n",
       "    </tr>\n",
       "    <tr>\n",
       "      <th>1</th>\n",
       "      <td>0</td>\n",
       "      <td>947</td>\n",
       "      <td>1</td>\n",
       "      <td>5</td>\n",
       "      <td>1</td>\n",
       "    </tr>\n",
       "    <tr>\n",
       "      <th>2</th>\n",
       "      <td>0</td>\n",
       "      <td>946</td>\n",
       "      <td>1</td>\n",
       "      <td>5</td>\n",
       "      <td>0</td>\n",
       "    </tr>\n",
       "    <tr>\n",
       "      <th>3</th>\n",
       "      <td>0</td>\n",
       "      <td>945</td>\n",
       "      <td>1</td>\n",
       "      <td>5</td>\n",
       "      <td>0</td>\n",
       "    </tr>\n",
       "    <tr>\n",
       "      <th>4</th>\n",
       "      <td>0</td>\n",
       "      <td>944</td>\n",
       "      <td>1</td>\n",
       "      <td>5</td>\n",
       "      <td>0</td>\n",
       "    </tr>\n",
       "    <tr>\n",
       "      <th>5</th>\n",
       "      <td>0</td>\n",
       "      <td>943</td>\n",
       "      <td>1</td>\n",
       "      <td>5</td>\n",
       "      <td>0</td>\n",
       "    </tr>\n",
       "    <tr>\n",
       "      <th>6</th>\n",
       "      <td>0</td>\n",
       "      <td>942</td>\n",
       "      <td>1</td>\n",
       "      <td>5</td>\n",
       "      <td>0</td>\n",
       "    </tr>\n",
       "    <tr>\n",
       "      <th>7</th>\n",
       "      <td>0</td>\n",
       "      <td>941</td>\n",
       "      <td>1</td>\n",
       "      <td>5</td>\n",
       "      <td>0</td>\n",
       "    </tr>\n",
       "    <tr>\n",
       "      <th>8</th>\n",
       "      <td>0</td>\n",
       "      <td>940</td>\n",
       "      <td>1</td>\n",
       "      <td>5</td>\n",
       "      <td>0</td>\n",
       "    </tr>\n",
       "    <tr>\n",
       "      <th>9</th>\n",
       "      <td>0</td>\n",
       "      <td>939</td>\n",
       "      <td>1</td>\n",
       "      <td>5</td>\n",
       "      <td>1</td>\n",
       "    </tr>\n",
       "  </tbody>\n",
       "</table>\n",
       "</div>"
      ],
      "text/plain": [
       "   user_id  book_id  is_read  rating  is_reviewed\n",
       "0        0      948        1       5            0\n",
       "1        0      947        1       5            1\n",
       "2        0      946        1       5            0\n",
       "3        0      945        1       5            0\n",
       "4        0      944        1       5            0\n",
       "5        0      943        1       5            0\n",
       "6        0      942        1       5            0\n",
       "7        0      941        1       5            0\n",
       "8        0      940        1       5            0\n",
       "9        0      939        1       5            1"
      ]
     },
     "execution_count": 6,
     "metadata": {},
     "output_type": "execute_result"
    }
   ],
   "source": [
    "interactions.head(10)"
   ]
  },
  {
   "cell_type": "code",
   "execution_count": 7,
   "metadata": {},
   "outputs": [
    {
     "data": {
      "text/plain": [
       "{'user_id': '8842281e1d1347389f2ab93d60773d4d',\n",
       " 'book_id': '66406',\n",
       " 'review_id': '80a09fb75c693a67b392a484eac59d51',\n",
       " 'rating': 4,\n",
       " 'review_text': 'A very interesting WW2 book that chronicles how a gang of street orphans fought the nazis. I love to hear different perspectives, so this was very enjoyable.',\n",
       " 'date_added': 'Fri Feb 09 18:27:09 -0800 2007',\n",
       " 'date_updated': 'Wed Mar 22 11:45:16 -0700 2017',\n",
       " 'read_at': 'Thu Jul 01 00:00:00 -0700 2004',\n",
       " 'started_at': '',\n",
       " 'n_votes': 0,\n",
       " 'n_comments': 0}"
      ]
     },
     "execution_count": 7,
     "metadata": {},
     "output_type": "execute_result"
    }
   ],
   "source": [
    "reviews = load_data('goodreads_reviews_dedup.json.gz')\n",
    "np.random.choice(reviews)"
   ]
  },
  {
   "cell_type": "code",
   "execution_count": 8,
   "metadata": {},
   "outputs": [
    {
     "data": {
      "text/plain": [
       "{'user_id': '01ec1a320ffded6b2dd47833f2c8e4fb',\n",
       " 'timestamp': '2014-05-04',\n",
       " 'review_sentences': [[0, '4.5 stars!'],\n",
       "  [0, 'Maverick.'],\n",
       "  [0, 'Yes, please!'],\n",
       "  [0, 'This novel starts off with a bang and hooked me from the first page.'],\n",
       "  [0,\n",
       "   'Maverick is a HOT AS HELL Navy SEAL, a womanizer but determined to change for Windsor.'],\n",
       "  [0, 'Their relationship is romantic, sweet, scorching hot and challenging.'],\n",
       "  [0,\n",
       "   'There is a great cast of supporting characters and the story is very engaging.'],\n",
       "  [0, 'There is also just the right amount of angst.'],\n",
       "  [0,\n",
       "   'Crazy Good is the perfect book when you want a steamy read with some sweet romance and emotion thrown in.'],\n",
       "  [0, 'I LOVED Mav!'],\n",
       "  [0,\n",
       "   'Rachel Robinson is an author to watch and I look forward to reading more from her!']],\n",
       " 'rating': 4,\n",
       " 'has_spoiler': False,\n",
       " 'book_id': '20576134',\n",
       " 'review_id': '5d6496c3313da68f28227cfa842a5b1e'}"
      ]
     },
     "execution_count": 8,
     "metadata": {},
     "output_type": "execute_result"
    }
   ],
   "source": [
    "spoilers = load_data('goodreads_reviews_spoiler.json.gz')\n",
    "np.random.choice(spoilers)"
   ]
  },
  {
   "cell_type": "code",
   "execution_count": 9,
   "metadata": {},
   "outputs": [],
   "source": [
    "np_reviews = np.array(reviews)\n",
    "np_spoilers = np.array(spoilers)"
   ]
  },
  {
   "cell_type": "code",
   "execution_count": 10,
   "metadata": {},
   "outputs": [],
   "source": [
    "np_books = np.array(books)\n",
    "np_authors = np.array(authors)\n",
    "np_works = np.array(works)\n",
    "np_series = np.array(series)\n",
    "np_genres = np.array(genres)"
   ]
  },
  {
   "cell_type": "markdown",
   "metadata": {},
   "source": [
    "### Code from https://github.com/MengtingWan/goodreads/blob/master/statistics.ipynb"
   ]
  },
  {
   "cell_type": "code",
   "execution_count": 11,
   "metadata": {},
   "outputs": [],
   "source": [
    "def count_lines(file_name):\n",
    "    print('counting file:', file_name)\n",
    "    count = 0\n",
    "    with gzip.open(file_name) as fin:\n",
    "        for l in fin:\n",
    "            count += 1\n",
    "    print('done!')\n",
    "    return count"
   ]
  },
  {
   "cell_type": "code",
   "execution_count": 12,
   "metadata": {},
   "outputs": [
    {
     "name": "stdout",
     "output_type": "stream",
     "text": [
      "counting file: goodreads_books.json.gz\n",
      "done!\n",
      "counting file: goodreads_book_works.json.gz\n",
      "done!\n",
      "counting file: goodreads_book_authors.json.gz\n",
      "done!\n",
      "counting file: goodreads_book_series.json.gz\n",
      "done!\n",
      "counting file: goodreads_book_genres_initial.json.gz\n",
      "done!\n",
      "counting file: goodreads_reviews_dedup.json.gz\n",
      "done!\n",
      "counting file: goodreads_reviews_spoiler.json.gz\n",
      "done!\n"
     ]
    }
   ],
   "source": [
    "n_books = count_lines('goodreads_books.json.gz')\n",
    "n_works = count_lines('goodreads_book_works.json.gz')\n",
    "n_authors = count_lines('goodreads_book_authors.json.gz')\n",
    "n_series = count_lines('goodreads_book_series.json.gz')\n",
    "n_genres = count_lines('goodreads_book_genres_initial.json.gz')\n",
    "n_reviews = count_lines('goodreads_reviews_dedup.json.gz')\n",
    "n_spoilers = count_lines('goodreads_reviews_spoiler.json.gz')"
   ]
  },
  {
   "cell_type": "code",
   "execution_count": 13,
   "metadata": {},
   "outputs": [
    {
     "data": {
      "text/plain": [
       "user_id        228648342\n",
       "book_id        228648342\n",
       "is_read        228648342\n",
       "rating         228648342\n",
       "is_reviewed    228648342\n",
       "dtype: int64"
      ]
     },
     "execution_count": 13,
     "metadata": {},
     "output_type": "execute_result"
    }
   ],
   "source": [
    "n_interactions = interactions.count()\n",
    "n_interactions"
   ]
  },
  {
   "cell_type": "code",
   "execution_count": 14,
   "metadata": {},
   "outputs": [
    {
     "data": {
      "text/html": [
       "<div>\n",
       "<style scoped>\n",
       "    .dataframe tbody tr th:only-of-type {\n",
       "        vertical-align: middle;\n",
       "    }\n",
       "\n",
       "    .dataframe tbody tr th {\n",
       "        vertical-align: top;\n",
       "    }\n",
       "\n",
       "    .dataframe thead th {\n",
       "        text-align: right;\n",
       "    }\n",
       "</style>\n",
       "<table border=\"1\" class=\"dataframe\">\n",
       "  <thead>\n",
       "    <tr style=\"text-align: right;\">\n",
       "      <th></th>\n",
       "      <th>count</th>\n",
       "    </tr>\n",
       "  </thead>\n",
       "  <tbody>\n",
       "    <tr>\n",
       "      <th># books</th>\n",
       "      <td>2,360,655.0</td>\n",
       "    </tr>\n",
       "    <tr>\n",
       "      <th># works</th>\n",
       "      <td>1,521,962.0</td>\n",
       "    </tr>\n",
       "    <tr>\n",
       "      <th># authors</th>\n",
       "      <td>829,529.0</td>\n",
       "    </tr>\n",
       "    <tr>\n",
       "      <th># series</th>\n",
       "      <td>400,390.0</td>\n",
       "    </tr>\n",
       "    <tr>\n",
       "      <th># genres</th>\n",
       "      <td>2,360,655.0</td>\n",
       "    </tr>\n",
       "    <tr>\n",
       "      <th># reviews</th>\n",
       "      <td>15,739,967.0</td>\n",
       "    </tr>\n",
       "    <tr>\n",
       "      <th># spoilers</th>\n",
       "      <td>1,378,033.0</td>\n",
       "    </tr>\n",
       "  </tbody>\n",
       "</table>\n",
       "</div>"
      ],
      "text/plain": [
       "                  count\n",
       "# books     2,360,655.0\n",
       "# works     1,521,962.0\n",
       "# authors     829,529.0\n",
       "# series      400,390.0\n",
       "# genres    2,360,655.0\n",
       "# reviews  15,739,967.0\n",
       "# spoilers  1,378,033.0"
      ]
     },
     "metadata": {},
     "output_type": "display_data"
    }
   ],
   "source": [
    "df_book_stats = pd.DataFrame([n_books, n_works, n_authors, n_series, n_genres, n_reviews, n_spoilers],\n",
    "                            dtype = float, columns = ['count'],\n",
    "                            index = ['# books', '# works', '# authors', '# series', '# genres', '# reviews', '# spoilers'])\n",
    "display(df_book_stats)"
   ]
  },
  {
   "cell_type": "markdown",
   "metadata": {},
   "source": [
    "# tweak this to work with interactions.csv? or email for details json?\n",
    "genre_list = ['children', 'comics_graphic', 'fantasy_paranormal', 'history_biography',\n",
    "              'mystery_thriller_crime', 'poetry', 'romance', 'young_adult']\n",
    "\n",
    "def count_all_genres(genre_list):\n",
    "    res = []\n",
    "    for g in genre_list:\n",
    "        n_book = count_lines(os.path.join('goodreads_books_'+g+'.json.gz'))\n",
    "        n_shelve, n_read, n_rate, n_review, n_user = count_interactions(\n",
    "            os.path.join(DIR_GENRE, 'goodreads_interactions_'+g+'.json.gz'))\n",
    "        res.append([n_book, n_user, n_shelve, n_read, n_rate, n_review])\n",
    "    df_stats_by_genre = pd.DataFrame(res, dtype = float, \n",
    "                                     columns = ['# book', '# user', '# shelve', '# read', '# rate', '# review'],\n",
    "                                     index = genre_list)\n",
    "    return df_stats_by_genre"
   ]
  },
  {
   "cell_type": "markdown",
   "metadata": {},
   "source": [
    "for _t in ['# shelve', '# read', '# rate', '# review']:\n",
    "    df_stats_by_genre[_t+'/'+'book'] = df_stats_by_genre[_t]/df_stats_by_genre['# book']\n",
    "    df_stats_by_genre[_t+'/'+'user'] = df_stats_by_genre[_t]/df_stats_by_genre['# user']\n",
    "display(df_stats_by_genre.round(2).transpose())"
   ]
  },
  {
   "cell_type": "markdown",
   "metadata": {},
   "source": [
    "### Code from https://github.com/MengtingWan/goodreads/blob/master/distributions.ipynb"
   ]
  },
  {
   "cell_type": "code",
   "execution_count": null,
   "metadata": {},
   "outputs": [],
   "source": [
    "print('=== first 5 records ===')\n",
    "display(interactions.head())\n",
    "print('=== duplicated records ===')\n",
    "display(interactions[interactions.duplicated(['user_id', 'book_id'], keep=False)])\n",
    "print('ideally you will not see any rows displayed above, then we are good now, no duplicates.')"
   ]
  },
  {
   "cell_type": "markdown",
   "metadata": {},
   "source": [
    "#### # shelved = total number of records in file\n",
    "#### # read =  number of records where users read the book\n",
    "#### # rated = number of records where users provided rating scores for the book\n",
    "#### # reviewed = number of recirds where the book recview texts are not empty"
   ]
  },
  {
   "cell_type": "code",
   "execution_count": 15,
   "metadata": {},
   "outputs": [
    {
     "data": {
      "text/html": [
       "<div>\n",
       "<style scoped>\n",
       "    .dataframe tbody tr th:only-of-type {\n",
       "        vertical-align: middle;\n",
       "    }\n",
       "\n",
       "    .dataframe tbody tr th {\n",
       "        vertical-align: top;\n",
       "    }\n",
       "\n",
       "    .dataframe thead th {\n",
       "        text-align: right;\n",
       "    }\n",
       "</style>\n",
       "<table border=\"1\" class=\"dataframe\">\n",
       "  <thead>\n",
       "    <tr style=\"text-align: right;\">\n",
       "      <th></th>\n",
       "      <th>count</th>\n",
       "    </tr>\n",
       "  </thead>\n",
       "  <tbody>\n",
       "    <tr>\n",
       "      <th># shelved</th>\n",
       "      <td>228,648,342.0</td>\n",
       "    </tr>\n",
       "    <tr>\n",
       "      <th># read</th>\n",
       "      <td>112,131,203.0</td>\n",
       "    </tr>\n",
       "    <tr>\n",
       "      <th># rated</th>\n",
       "      <td>104,551,549.0</td>\n",
       "    </tr>\n",
       "    <tr>\n",
       "      <th># reviewed</th>\n",
       "      <td>16,219,149.0</td>\n",
       "    </tr>\n",
       "  </tbody>\n",
       "</table>\n",
       "</div>"
      ],
      "text/plain": [
       "                   count\n",
       "# shelved  228,648,342.0\n",
       "# read     112,131,203.0\n",
       "# rated    104,551,549.0\n",
       "# reviewed  16,219,149.0"
      ]
     },
     "metadata": {},
     "output_type": "display_data"
    }
   ],
   "source": [
    "df_stats = pd.DataFrame([interactions.shape[0],\n",
    "                         interactions['is_read'].sum(),\n",
    "                         (interactions['rating']>0).sum(),\n",
    "                         interactions['is_reviewed'].sum()], dtype = float, \n",
    "                        columns = ['count'],\n",
    "                        index = ['# shelved', '# read', '# rated', '# reviewed'])\n",
    "display(df_stats)"
   ]
  },
  {
   "cell_type": "code",
   "execution_count": 16,
   "metadata": {},
   "outputs": [
    {
     "data": {
      "text/plain": [
       "0   124,096,793.0\n",
       "4    37,497,451.0\n",
       "5    35,506,166.0\n",
       "3    23,307,457.0\n",
       "2     6,189,946.0\n",
       "1     2,050,529.0\n",
       "Name: rating, dtype: float64"
      ]
     },
     "metadata": {},
     "output_type": "display_data"
    }
   ],
   "source": [
    "# rating of 0 means no rating provided\n",
    "df_rating_count = interactions['rating'].value_counts().astype(float)\n",
    "display(df_rating_count)"
   ]
  },
  {
   "cell_type": "code",
   "execution_count": 17,
   "metadata": {},
   "outputs": [],
   "source": [
    "# visualize user/item distributions (zipf's law)\n",
    "# count the number of interactions for each user/item\n",
    "# count the freq of these numbers (ranks)\n",
    "# plot each type of interaction\n",
    "shelve_user = interactions['user_id'].value_counts().value_counts().reset_index().sort_values('index').values\n",
    "read_user = interactions['user_id'].loc[interactions['is_read']>0].value_counts().value_counts().reset_index().sort_values('index').values\n",
    "rate_user = interactions['user_id'].loc[interactions['rating']>0].value_counts().value_counts().reset_index().sort_values('index').values\n",
    "review_user = interactions['user_id'].loc[interactions['is_reviewed']>0].value_counts().value_counts().reset_index().sort_values('index').values\n",
    "\n",
    "shelve_book = interactions['book_id'].value_counts().value_counts().reset_index().sort_values('index').values\n",
    "read_book = interactions['book_id'].loc[interactions['is_read']>0].value_counts().value_counts().reset_index().sort_values('index').values\n",
    "rate_book = interactions['book_id'].loc[interactions['rating']>0].value_counts().value_counts().reset_index().sort_values('index').values\n",
    "review_book = interactions['book_id'].loc[interactions['is_reviewed']>0].value_counts().value_counts().reset_index().sort_values('index').values"
   ]
  },
  {
   "cell_type": "code",
   "execution_count": 18,
   "metadata": {},
   "outputs": [
    {
     "data": {
      "text/plain": [
       "<matplotlib.legend.Legend at 0x7fe1ea8cdcd0>"
      ]
     },
     "execution_count": 18,
     "metadata": {},
     "output_type": "execute_result"
    },
    {
     "data": {
      "image/png": "[encoded data removed]",
      "text/plain": [
       "<Figure size 360x360 with 1 Axes>"
      ]
     },
     "metadata": {
      "needs_background": "light"
     },
     "output_type": "display_data"
    }
   ],
   "source": [
    "plt.figure(figsize=(5,5))\n",
    "plt.loglog(shelve_user[:,0], shelve_user[:,1], label='shelve')\n",
    "plt.loglog(read_user[:,0], read_user[:,1], label='read')\n",
    "plt.loglog(rate_user[:,0], rate_user[:,1], label='rate')\n",
    "plt.loglog(review_user[:,0], review_user[:,1], label='review')\n",
    "plt.xlabel('rank')\n",
    "plt.ylabel('frequency')\n",
    "plt.title('Log-Log Plot of the Distribution of Users')\n",
    "plt.legend(loc='upper right')"
   ]
  },
  {
   "cell_type": "code",
   "execution_count": 19,
   "metadata": {
    "scrolled": true
   },
   "outputs": [
    {
     "data": {
      "text/plain": [
       "<matplotlib.legend.Legend at 0x7fe1ec5ba760>"
      ]
     },
     "execution_count": 19,
     "metadata": {},
     "output_type": "execute_result"
    },
    {
     "data": {
      "image/png": "[encoded data removed]",
      "text/plain": [
       "<Figure size 360x360 with 1 Axes>"
      ]
     },
     "metadata": {
      "needs_background": "light"
     },
     "output_type": "display_data"
    }
   ],
   "source": [
    "plt.figure(figsize=(5,5))\n",
    "plt.loglog(shelve_book[:,0], shelve_book[:,1], label='shelve')\n",
    "plt.loglog(read_book[:,0], read_book[:,1], label='read')\n",
    "plt.loglog(rate_book[:,0], rate_book[:,1], label='rate')\n",
    "plt.loglog(review_book[:,0], review_book[:,1], label='review')\n",
    "plt.xlabel('rank')\n",
    "plt.ylabel('frequency')\n",
    "plt.title('Log-Log Plot of the Distribution of Books')\n",
    "plt.legend(loc='upper right')"
   ]
  },
  {
   "cell_type": "markdown",
   "metadata": {},
   "source": [
    "### Code from https://github.com/MengtingWan/goodreads/blob/master/reviews.ipynb"
   ]
  },
  {
   "cell_type": "code",
   "execution_count": 20,
   "metadata": {},
   "outputs": [],
   "source": [
    "def count_reviews(file_name):\n",
    "    print('counting file:', file_name)\n",
    "    n_review = 0\n",
    "    book_set, user_set = set(), set()\n",
    "    print('current line: ', end='')\n",
    "    with gzip.open(file_name) as fin:\n",
    "        for l in fin:\n",
    "            d = json.loads(l)\n",
    "            if n_review % 1000000 == 0:\n",
    "                print(n_review, end=',')\n",
    "            n_review += 1\n",
    "            book_set.add(d['book_id'])\n",
    "            user_set.add(d['user_id'])\n",
    "    print('complete')\n",
    "    print('done!')\n",
    "    return n_review, len(book_set), len(user_set)"
   ]
  },
  {
   "cell_type": "code",
   "execution_count": 21,
   "metadata": {},
   "outputs": [
    {
     "name": "stdout",
     "output_type": "stream",
     "text": [
      "counting file: goodreads_reviews_dedup.json.gz\n",
      "current line: 0,1000000,2000000,3000000,4000000,5000000,6000000,7000000,8000000,9000000,10000000,11000000,12000000,13000000,14000000,15000000,complete\n",
      "done!\n"
     ]
    },
    {
     "data": {
      "text/html": [
       "<div>\n",
       "<style scoped>\n",
       "    .dataframe tbody tr th:only-of-type {\n",
       "        vertical-align: middle;\n",
       "    }\n",
       "\n",
       "    .dataframe tbody tr th {\n",
       "        vertical-align: top;\n",
       "    }\n",
       "\n",
       "    .dataframe thead th {\n",
       "        text-align: right;\n",
       "    }\n",
       "</style>\n",
       "<table border=\"1\" class=\"dataframe\">\n",
       "  <thead>\n",
       "    <tr style=\"text-align: right;\">\n",
       "      <th></th>\n",
       "      <th>count</th>\n",
       "    </tr>\n",
       "  </thead>\n",
       "  <tbody>\n",
       "    <tr>\n",
       "      <th># review</th>\n",
       "      <td>15,739,967.0</td>\n",
       "    </tr>\n",
       "    <tr>\n",
       "      <th># book</th>\n",
       "      <td>2,080,190.0</td>\n",
       "    </tr>\n",
       "    <tr>\n",
       "      <th># user</th>\n",
       "      <td>465,323.0</td>\n",
       "    </tr>\n",
       "  </tbody>\n",
       "</table>\n",
       "</div>"
      ],
      "text/plain": [
       "                count\n",
       "# review 15,739,967.0\n",
       "# book    2,080,190.0\n",
       "# user      465,323.0"
      ]
     },
     "metadata": {},
     "output_type": "display_data"
    }
   ],
   "source": [
    "n_review, n_book, n_user = count_reviews(os.path.join('goodreads_reviews_dedup.json.gz'))\n",
    "df_stats_review = pd.DataFrame([n_review, n_book, n_user], dtype=float,\n",
    "                               columns=['count'], index=['# review', '# book', '# user'])\n",
    "display(df_stats_review)"
   ]
  },
  {
   "cell_type": "code",
   "execution_count": 22,
   "metadata": {},
   "outputs": [],
   "source": [
    "def count_spoilers(file_name):\n",
    "    print('counting file:', file_name)\n",
    "    n_review, n_sentence, n_spoiler_review, n_spoiler_sentence = 0, 0, 0, 0\n",
    "    book_set, user_set = set(), set()\n",
    "    print('current line: ', end='')\n",
    "    with gzip.open(file_name) as fin:\n",
    "        for l in fin:\n",
    "            d = json.loads(l)\n",
    "            if n_review % 1000000 == 0:\n",
    "                print(n_review, end=',')\n",
    "            n_review += 1\n",
    "            for _t, _ in d['review_sentences']:\n",
    "                n_sentence += 1\n",
    "                n_spoiler_sentence += _t\n",
    "            n_spoiler_review += int(d['has_spoiler'])\n",
    "            book_set.add(d['book_id'])\n",
    "            user_set.add(d['user_id'])\n",
    "    print('complete')\n",
    "    print('done!')\n",
    "    return n_review, n_sentence, n_spoiler_review, n_spoiler_sentence, len(book_set), len(user_set)"
   ]
  },
  {
   "cell_type": "code",
   "execution_count": 23,
   "metadata": {},
   "outputs": [
    {
     "name": "stdout",
     "output_type": "stream",
     "text": [
      "counting file: goodreads_reviews_spoiler.json.gz\n",
      "current line: 0,1000000,complete\n",
      "done!\n"
     ]
    },
    {
     "data": {
      "text/html": [
       "<div>\n",
       "<style scoped>\n",
       "    .dataframe tbody tr th:only-of-type {\n",
       "        vertical-align: middle;\n",
       "    }\n",
       "\n",
       "    .dataframe tbody tr th {\n",
       "        vertical-align: top;\n",
       "    }\n",
       "\n",
       "    .dataframe thead th {\n",
       "        text-align: right;\n",
       "    }\n",
       "</style>\n",
       "<table border=\"1\" class=\"dataframe\">\n",
       "  <thead>\n",
       "    <tr style=\"text-align: right;\">\n",
       "      <th></th>\n",
       "      <th>count</th>\n",
       "    </tr>\n",
       "  </thead>\n",
       "  <tbody>\n",
       "    <tr>\n",
       "      <th># review</th>\n",
       "      <td>1,378,033.0</td>\n",
       "    </tr>\n",
       "    <tr>\n",
       "      <th># sentence</th>\n",
       "      <td>17,672,655.0</td>\n",
       "    </tr>\n",
       "    <tr>\n",
       "      <th># spoiler review</th>\n",
       "      <td>89,627.0</td>\n",
       "    </tr>\n",
       "    <tr>\n",
       "      <th># spoiler sentence</th>\n",
       "      <td>569,724.0</td>\n",
       "    </tr>\n",
       "    <tr>\n",
       "      <th># book</th>\n",
       "      <td>25,475.0</td>\n",
       "    </tr>\n",
       "    <tr>\n",
       "      <th># user</th>\n",
       "      <td>18,892.0</td>\n",
       "    </tr>\n",
       "  </tbody>\n",
       "</table>\n",
       "</div>"
      ],
      "text/plain": [
       "                          count\n",
       "# review            1,378,033.0\n",
       "# sentence         17,672,655.0\n",
       "# spoiler review       89,627.0\n",
       "# spoiler sentence    569,724.0\n",
       "# book                 25,475.0\n",
       "# user                 18,892.0"
      ]
     },
     "metadata": {},
     "output_type": "display_data"
    }
   ],
   "source": [
    "res = count_spoilers(os.path.join('goodreads_reviews_spoiler.json.gz'))\n",
    "df_stats_spoiler = pd.DataFrame(res, columns=['count'], dtype=float, \n",
    "                               index=['# review', '# sentence', '# spoiler review', '# spoiler sentence',\n",
    "                                      '# book', '# user'])\n",
    "display(df_stats_spoiler)"
   ]
  },
  {
   "cell_type": "markdown",
   "metadata": {},
   "source": [
    "### Recommendation is to start with genre specific files \n",
    "### https://sites.google.com/eng.ucsd.edu/ucsdbookgraph/home"
   ]
  }
 ],
 "metadata": {
  "kernelspec": {
   "display_name": "Python 3",
   "language": "python",
   "name": "python3"
  },
  "language_info": {
   "codemirror_mode": {
    "name": "ipython",
    "version": 3
   },
   "file_extension": ".py",
   "mimetype": "text/x-python",
   "name": "python",
   "nbconvert_exporter": "python",
   "pygments_lexer": "ipython3",
   "version": "3.8.3"
  }
 },
 "nbformat": 4,
 "nbformat_minor": 4
}
